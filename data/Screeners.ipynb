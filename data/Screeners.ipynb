{
 "cells": [
  {
   "cell_type": "code",
   "execution_count": 1,
   "id": "9f94d510",
   "metadata": {},
   "outputs": [],
   "source": [
    "# libraries used\n",
    "import numpy as np\n",
    "import pandas as pd\n",
    "from tvDatafeed import TvDatafeed, Interval\n",
    "from matplotlib import pyplot as plt\n",
    "import csv"
   ]
  },
  {
   "cell_type": "markdown",
   "id": "bbaf378f",
   "metadata": {},
   "source": [
    "### INDICATORS FUNCTIONS"
   ]
  },
  {
   "cell_type": "code",
   "execution_count": 2,
   "id": "5615b3ca",
   "metadata": {},
   "outputs": [],
   "source": [
    "# Indicators functions\n",
    "\n",
    "# SMA :- Simple Moving Average.\n",
    "def SMA(col: pd.Series, period: int = 50):\n",
    "    \"\"\"\n",
    "    Calculate SMA using given column\n",
    "    col : pd.Series\n",
    "    period : int (default)\n",
    "    \"\"\"\n",
    "    return col.rolling(period).mean().round(2)\n",
    "\n",
    "# RSI :- Relative Strength Index.\n",
    "def RSI(change : pd.Series, period: int = 14):\n",
    "    \"\"\"\n",
    "    calculate RSI using price change data.\n",
    "    change : pd.Sereies\n",
    "    period : int\n",
    "    \"\"\"\n",
    "    gain = change.where(change > 0, 0)\n",
    "    loss = change.where(change < 0 , 0)\n",
    "    loss = loss.abs()\n",
    "    avgain = gain.rolling(period).mean()\n",
    "    avloss = loss.rolling(period).mean()\n",
    "    rs = avgain / avloss\n",
    "    rsi = 100 - (100 / (1 + rs))\n",
    "    return rsi.round(2)\n",
    "\n",
    "# ADX :- Average Directional Index\n",
    "def ADX(high, low, close, period:int = 14):\n",
    "    TR = pd.DataFrame({\n",
    "        'a': high - low,\n",
    "        'b': abs(high - close.shift()),\n",
    "        'c': abs(low - close.shift())\n",
    "    }).max(axis=1)\n",
    "\n",
    "    # Calculate the Directional Movement (DM)\n",
    "    DMplus = (high - high.shift()) > (low.shift() - low)\n",
    "    DMminus = (low.shift() - low) > (high - high.shift())\n",
    "\n",
    "    # Calculate the True Directional Indicator (+DI) and (-DI)\n",
    "    TR14 = TR.rolling(window=period).sum()\n",
    "    DM14plus = DMplus.rolling(window=period).sum()\n",
    "    DM14minus = DMminus.rolling(window=period).sum()\n",
    "\n",
    "    DIplus14 = DM14plus / TR14 * 100\n",
    "    DIminus14 = DM14minus / TR14 * 100\n",
    "\n",
    "    # Calculate the Directional Movement Index (DMI)\n",
    "    DX14 = abs(DIplus14 - DIminus14) / (DIplus14 + DIminus14) * 100\n",
    "    ADX14 = DX14.rolling(window=period).mean()\n",
    "    return ADX14.round(2)\n",
    "\n",
    "\n",
    "# calcualte volume weigthed average price.\n",
    "def VWAP(price: pd.Series, vol:pd.Series, period:int = 14) -> pd.Series:\n",
    "    num = price * vol\n",
    "    vmp = num.rolling(period).sum() \n",
    "    sv = vol.rolling(period).sum()\n",
    "    return vmp/sv\n",
    "\n",
    "# calcualting macd.\n",
    "def MACD():\n",
    "    pass"
   ]
  },
  {
   "cell_type": "markdown",
   "id": "653e0930",
   "metadata": {},
   "source": [
    "#### INITIALIZING TV-DATA-FEED"
   ]
  },
  {
   "cell_type": "code",
   "execution_count": 3,
   "id": "672c9e33",
   "metadata": {},
   "outputs": [
    {
     "data": {
      "text/plain": [
       "<tvDatafeed.main.TvDatafeed at 0x192142f6aa0>"
      ]
     },
     "execution_count": 3,
     "metadata": {},
     "output_type": "execute_result"
    }
   ],
   "source": [
    "tv = TvDatafeed('mohitrathor7729', 'Mohit7729@#')\n",
    "tv"
   ]
  },
  {
   "cell_type": "markdown",
   "id": "b6e6a6b1",
   "metadata": {},
   "source": [
    "## NIFTY 100 SCANS\n",
    "### CRITERIA : \n",
    " + #### 5 & 50 moving average should be minimum."
   ]
  },
  {
   "cell_type": "code",
   "execution_count": 4,
   "id": "11147a38",
   "metadata": {},
   "outputs": [
    {
     "data": {
      "text/plain": [
       "0             SYMBOL \\n\n",
       "1      NIFTY MIDCAP 100\n",
       "2              SONACOMS\n",
       "3               MPHASIS\n",
       "4             MAXHEALTH\n",
       "             ...       \n",
       "97                 SAIL\n",
       "98                  OIL\n",
       "99            POLICYBZR\n",
       "100                BHEL\n",
       "101            PRESTIGE\n",
       "Name: Symbol, Length: 102, dtype: object"
      ]
     },
     "execution_count": 4,
     "metadata": {},
     "output_type": "execute_result"
    }
   ],
   "source": [
    "# WORK ON NIFTY 100.\n",
    "n100 = pd.read_csv('niftymid100.csv', names = ['Symbol', 'Open', 'High', 'Low', 'Pre Close', 'LTP', 'Change', '%chng' , 'Vol', 'Value', '52W H' , '52W L' , '365D %c', '30D %c'])\n",
    "n100sym = n100['Symbol']\n",
    "n100sym"
   ]
  },
  {
   "cell_type": "code",
   "execution_count": null,
   "id": "08ecbcad",
   "metadata": {},
   "outputs": [],
   "source": [
    "# short term trading scan\n",
    "with open('NIFTY100-scan.csv', 'w') as fh:\n",
    "    j = 1\n",
    "    writer = csv.writer(fh)\n",
    "    for i in nft100['SYMBOL']:\n",
    "        try:\n",
    "            data = tv.get_hist(symbol= i, exchange= 'NSE', interval= Interval.in_daily, n_bars = 200)\n",
    "            data['MA5'] = SMA(data['close'], period= 5)\n",
    "            data['MA50'] = SMA(data['close'])\n",
    "            data['ADX']  = ADX(data['high'], data['low'], data['close'])\n",
    "            writer.writerow(list(data.iloc[-1]))\n",
    "            print(j)\n",
    "            j += 1\n",
    "        except Exception as e: print(e, i, 'Data unavailable !')\n",
    "            \n",
    "print('scan Completed !!!')"
   ]
  }
 ],
 "metadata": {
  "kernelspec": {
   "display_name": "Python 3 (ipykernel)",
   "language": "python",
   "name": "python3"
  },
  "language_info": {
   "codemirror_mode": {
    "name": "ipython",
    "version": 3
   },
   "file_extension": ".py",
   "mimetype": "text/x-python",
   "name": "python",
   "nbconvert_exporter": "python",
   "pygments_lexer": "ipython3",
   "version": "3.10.4"
  }
 },
 "nbformat": 4,
 "nbformat_minor": 5
}
