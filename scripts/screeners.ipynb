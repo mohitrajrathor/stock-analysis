{
 "cells": [
  {
   "cell_type": "code",
   "execution_count": 1,
   "id": "7b452957",
   "metadata": {},
   "outputs": [],
   "source": [
    "import pandas as pd\n",
    "import numpy as np\n",
    "import fin_data\n",
    "from indicator import *\n",
    "from tvDatafeed import *"
   ]
  },
  {
   "cell_type": "code",
   "execution_count": 2,
   "id": "cd290533",
   "metadata": {},
   "outputs": [
    {
     "name": "stdout",
     "output_type": "stream",
     "text": [
      "rak\n"
     ]
    }
   ],
   "source": [
    "print(\"rak\")\n",
    "import requests"
   ]
  },
  {
   "cell_type": "code",
   "execution_count": 3,
   "id": "69269d5c",
   "metadata": {},
   "outputs": [
    {
     "name": "stdout",
     "output_type": "stream",
     "text": [
      "145\n"
     ]
    }
   ],
   "source": [
    "print(145)"
   ]
  },
  {
   "cell_type": "code",
   "execution_count": null,
   "id": "ef33b432",
   "metadata": {},
   "outputs": [],
   "source": [
    "nse = fin_data.NseIndia()\n",
    "nse.get_bhavcopy('12may2023')"
   ]
  }
 ],
 "metadata": {
  "kernelspec": {
   "display_name": "Python 3 (ipykernel)",
   "language": "python",
   "name": "python3"
  },
  "language_info": {
   "codemirror_mode": {
    "name": "ipython",
    "version": 3
   },
   "file_extension": ".py",
   "mimetype": "text/x-python",
   "name": "python",
   "nbconvert_exporter": "python",
   "pygments_lexer": "ipython3",
   "version": "3.10.4"
  }
 },
 "nbformat": 4,
 "nbformat_minor": 5
}
